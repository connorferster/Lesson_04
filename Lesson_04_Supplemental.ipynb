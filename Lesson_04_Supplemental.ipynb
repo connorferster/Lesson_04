{
 "cells": [
  {
   "cell_type": "markdown",
   "id": "ad160099",
   "metadata": {},
   "source": [
    "# Using `enumerate()`, aka \"Looping with indexes\""
   ]
  },
  {
   "cell_type": "markdown",
   "id": "4a6bd38e",
   "metadata": {},
   "source": [
    "As we saw, the basic `for...in...` loop structure looks like this:\n",
    "```python\n",
    "my_collection = [\"a\", \"b\", \"c\"]\n",
    "acc = []\n",
    "for item in my_collection:\n",
    "    <do something with item>\n",
    "    acc.append(...)\n",
    "```"
   ]
  },
  {
   "cell_type": "markdown",
   "id": "a2619644",
   "metadata": {},
   "source": [
    "In this process, Python takes every item out of `my_collection`, in order, and puts it into the variable `item`.\n",
    "\n",
    "When you loop through the collection, you just get the one item each time the loop runs."
   ]
  },
  {
   "cell_type": "markdown",
   "id": "d2576886",
   "metadata": {},
   "source": [
    "## Get two items in each loop run with `enumerate()`"
   ]
  },
  {
   "cell_type": "markdown",
   "id": "b047d5db",
   "metadata": {},
   "source": [
    "Sometimes it is useful to loop over the item in your collection but to also know the index of the item, it's numerical position, in the collection. For this, we use `enumerate()`.\n",
    "\n",
    "An example:\n",
    "\n",
    "```python\n",
    "my_collection = [\"a\", \"b\", \"c\"]\n",
    "for idx, item in enumerate(my_collection):\n",
    "    print(f\"My index: {idx}; My item: {item}\")\n",
    "```\n",
    "\n"
   ]
  },
  {
   "cell_type": "code",
   "execution_count": 3,
   "id": "97a82f22",
   "metadata": {},
   "outputs": [
    {
     "name": "stdout",
     "output_type": "stream",
     "text": [
      "My index: 0; My item: a\n",
      "My index: 1; My item: b\n",
      "My index: 2; My item: c\n"
     ]
    }
   ],
   "source": [
    "my_collection = [\"a\", \"b\", \"c\"]\n",
    "for idx, item in enumerate(my_collection):\n",
    "    print(f\"My index: {idx}; My item: {item}\")"
   ]
  },
  {
   "cell_type": "markdown",
   "id": "4e9a3a26",
   "metadata": {},
   "source": [
    "If you have the item, why would you need it's position? Sometimes, you have two lists that are the same size with data in them that are somehow correlated. By knowing the index of the item in the list, you can reference your other list from within the loop of the first list.\n",
    "\n",
    "Another example:\n",
    "\n",
    "```python\n",
    "my_collection = [\"a\", \"b\", \"c\"]\n",
    "my_other_collection = [\"Red\", \"Blue\", \"Green\"]\n",
    "\n",
    "for idx, item in enumerate(my_collection):\n",
    "    print(f\"My item from my_collection: {item}\")\n",
    "    print(f\"My item from my_other_collection: {my_other_collection[idx]}\")\n",
    "    print(\"End of loop\")\n",
    "```\n",
    "\n",
    "Note: when using `enumerate()`, I get two items: the index and then my item. This is the order they are served to you in, first the index, then the item. So, assign variable names as appropriate.\n",
    "\n",
    "You can do this:\n",
    "\n",
    "```python\n",
    "my_collection = [\"a\", \"b\", \"c\"]\n",
    "my_other_collection = [\"Red\", \"Blue\", \"Green\"]\n",
    "\n",
    "for item, idx in enumerate(my_collection): # Note the changed order of idx, item\n",
    "    print(f\"My item: {item}\")\n",
    "    print(f\"My idx: {idx}\")\n",
    "```\n",
    "\n",
    "But, no matter how hard you intend to, the values will be served to you in the order of `idx`, `item`, even if you named them otherwise. In this case, your `item` is actually the value of your index and vice-versa. And this is just confusing.\n",
    "\n",
    "So, just remember the order, index then item, and name your loop variables appropriately."
   ]
  },
  {
   "cell_type": "code",
   "execution_count": 12,
   "id": "f15f51bd",
   "metadata": {},
   "outputs": [
    {
     "name": "stdout",
     "output_type": "stream",
     "text": [
      "My 'item': 0\n",
      "My 'idx': a\n",
      "My 'item': 1\n",
      "My 'idx': b\n",
      "My 'item': 2\n",
      "My 'idx': c\n"
     ]
    }
   ],
   "source": [
    "my_collection = [\"a\", \"b\", \"c\"]\n",
    "my_other_collection = [\"Red\", \"Blue\", \"Green\"]\n",
    "\n",
    "for item, idx in enumerate(my_collection): # Note the changed order of idx, item\n",
    "    print(f\"My 'item': {item}\")\n",
    "    print(f\"My 'idx': {idx}\")"
   ]
  },
  {
   "cell_type": "markdown",
   "id": "7f95ef87",
   "metadata": {},
   "source": [
    "## An application for using `enumerate()`\n",
    "\n",
    "What if you wanted to somehow \"categorize\" the items in your collection into some kind of cyclical structure, like say you wanted to do a divide some summer camp activities between a three groups of kids. Using `enumerate()` and the modulo operator `%` is useful for this.\n",
    "\n",
    "```python\n",
    "summer_camp_exercises = [\"rowing\", \"running\", \"biking\", \"hiking\", \"tennis\", \"capture the flag\"]\n",
    "                        # group_0  group_1     group_2   group_0    group_1    group_2\n",
    "    \n",
    "# I am setting up three accumulators; one for each group of kids\n",
    "group_0 = []\n",
    "group_1 = []\n",
    "group_2 = []\n",
    "for idx, activity in enumerate(summer_camp_exercises):\n",
    "    group_assignment = idx % 3 # Get the remainder of dividing idx by 3; will cycle through 0, 1, 2, 0, 1, 2, ...\n",
    "    if group_assignment == 0:\n",
    "        group_0.append(activity)\n",
    "    elif group_assignment == 1:\n",
    "        group_1.append(activity)\n",
    "    else:\n",
    "        group_2.append(activity)\n",
    "```"
   ]
  },
  {
   "cell_type": "code",
   "execution_count": 22,
   "id": "4c11256c",
   "metadata": {},
   "outputs": [],
   "source": [
    "summer_camp_exercises = [\"rowing\", \"running\", \"biking\", \"hiking\", \"tennis\", \"capture the flag\"]\n",
    "                        # group_0  group_1     group_2   group_0    group_1    group_2\n",
    "\n",
    "# I am setting up three accumulators; one for each group of kids\n",
    "group_0 = []\n",
    "group_1 = []\n",
    "group_2 = []\n",
    "for idx, activity in enumerate(summer_camp_exercises):\n",
    "    group_assignment = idx % 3 # Get the remainder of dividing idx by 3; will cycle through 0, 1, 2, 0, 1, 2, ...\n",
    "    if group_assignment == 0:\n",
    "        group_0.append(activity)\n",
    "    elif group_assignment == 1:\n",
    "        group_1.append(activity)\n",
    "    else:\n",
    "        group_2.append(activity)"
   ]
  },
  {
   "cell_type": "code",
   "execution_count": 21,
   "id": "311e364c",
   "metadata": {},
   "outputs": [
    {
     "name": "stdout",
     "output_type": "stream",
     "text": [
      "['rowing', 'hiking']\n",
      "['running', 'tennis']\n",
      "['biking', 'capture the flag']\n"
     ]
    }
   ],
   "source": [
    "print(group_0)\n",
    "print(group_1)\n",
    "print(group_2)"
   ]
  },
  {
   "cell_type": "markdown",
   "id": "1ab1dc1d",
   "metadata": {},
   "source": [
    "## Other programming languages (\"pythonic\" vs \"non-pythonic\")\n",
    "\n",
    "In most programming languages, using the index to get the item in a collection is **just how you loop**. But, not in Python.\n",
    "\n",
    "An example from Matlab:\n",
    "\n",
    "```matlab\n",
    "a = [1, 2, 3];\n",
    "for idx = 0:length(a);\n",
    "    fprintf(a[idx]);\n",
    "```\n",
    "\n",
    "Here the idea in the `for` loop is to just generate a sequence of numbers starting at `0` and going to however long `a` is.\n",
    "\n",
    "Here is the exact same code translated into Python:\n",
    "\n",
    "```python\n",
    "a = [1,2,3]\n",
    "for idx in range(len(a)):\n",
    "    print(a[idx])\n",
    "```\n",
    "\n",
    "Often when folks have come from another programming language, they tend to loop in Python like they do in other languages. They have their collection, they figure out how long it is using `len()` and then they create a `range()` which generates numbers in a sequence from `0` to however long `a` is.\n",
    "\n",
    "You can see how much more complicated this is than just doing:\n",
    "\n",
    "```python\n",
    "a = [1, 2, 3]\n",
    "for item in a:\n",
    "    print(a)\n",
    "```\n",
    "\n",
    "When folks in the Python community see `for idx in range(len(...))`, it is often referred to as \"non-pythonic\". \"Non-pythonic\" is short-hand for: \n",
    "\n",
    ">\"Python is designed to make your life easy but you are making your life more difficult by using an approach from another language.\""
   ]
  },
  {
   "cell_type": "code",
   "execution_count": null,
   "id": "8e5a1e25",
   "metadata": {},
   "outputs": [],
   "source": []
  }
 ],
 "metadata": {
  "kernelspec": {
   "display_name": "Python 3",
   "language": "python",
   "name": "python3"
  },
  "language_info": {
   "codemirror_mode": {
    "name": "ipython",
    "version": 3
   },
   "file_extension": ".py",
   "mimetype": "text/x-python",
   "name": "python",
   "nbconvert_exporter": "python",
   "pygments_lexer": "ipython3",
   "version": "3.7.10"
  }
 },
 "nbformat": 4,
 "nbformat_minor": 5
}
