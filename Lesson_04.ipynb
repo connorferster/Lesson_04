{
 "cells": [
  {
   "cell_type": "markdown",
   "metadata": {},
   "source": [
    "# Lesson 4 - `if` you are happy and you know it touch your toes, `else` touch your ears"
   ]
  },
  {
   "cell_type": "markdown",
   "metadata": {},
   "source": [
    "Using `if` statements add logic to our code: the ability to make automated decisions.\n",
    "\n",
    "This is really powerful and a big part of what computing is all about!"
   ]
  },
  {
   "cell_type": "markdown",
   "metadata": {
    "tags": []
   },
   "source": [
    "## `if`, `elif`, `else` syntax"
   ]
  },
  {
   "cell_type": "markdown",
   "metadata": {},
   "source": [
    "```python \n",
    "if <condition>:\n",
    "    <do something>\n",
    "elif <another condition>:\n",
    "    <do something a little different>\n",
    "elif <yet another condition>:\n",
    "    <do something more different>\n",
    "else:\n",
    "    <do this last thing when conditions above are not met>\n",
    "```\n",
    "\n",
    "### Lets break this down a bit\n",
    "\n",
    "```python\n",
    "if <condition>:\n",
    "```\n",
    "\n",
    "An `if`/`elif`/`else` block _always_ starts with an initial `if`. \n",
    "\n",
    "The `<condition>` part is some kind of _expression_ which will evaluate to either `True` or `False`. Both `True` and `False` are called \"booleans\" and there are only two of them.\n",
    "\n",
    "The last thing you need to add is a colon, `:`, as though to say to Python, \"pay attention to what comes next\".\n",
    "\n",
    "```python\n",
    "    <do something>\n",
    "```\n",
    "\n",
    "This can be any Python code. The only thing you have to remember about this is that you have to **indent** it by hitting the `[Tab]` key.\n",
    "\n",
    "```python\n",
    "elif <another condition>:\n",
    "```\n",
    "\n",
    "This is some other expression that will evaluate to either `True` or `False`. This condition will be evaluated ONLY if the first evaluates as `False`.\n",
    "\n",
    "```python\n",
    "else:\n",
    "```\n",
    "\n",
    "By using `else`, you are building in a \"fail safe\". You are telling Python, \"if nothing else passes, then run the back-up plan\". \n",
    "\n",
    "Do you NEED to end your `if` statement with an `else`? No, you don't. It is simply a _guarantee_ that _some_ code will run from your `if` statement."
   ]
  },
  {
   "cell_type": "markdown",
   "metadata": {},
   "source": [
    "# What is a condition?\n",
    "\n",
    "A condition is any Python _expression_ that evaluates to a `bool` type, i.e. either `True` or `False`. "
   ]
  },
  {
   "cell_type": "markdown",
   "metadata": {},
   "source": [
    "## Basic comparison operators\n",
    "\n",
    "If you are checking come kind of numerical condition, you might use comparison operators.\n",
    "\n",
    "These are the basic comparison operators:\n",
    "* `==` - Equal to\n",
    "* `>` - Greater than\n",
    "* `<` - Less than\n",
    "* `>=` - Greater than or equal to\n",
    "* `<=` - Less than or equal to\n",
    "* `!=` - Not equal to\n"
   ]
  },
  {
   "cell_type": "markdown",
   "metadata": {},
   "source": [
    "Test some comparisons out!\n",
    "\n",
    "```python\n",
    "a = 2\n",
    "b = 3.5\n",
    "c = 5\n",
    "\n",
    "print(f\"Is a greater than b? {a > b}\")\n",
    "print(f\"Is a less than b? {a < b}\")\n",
    "print(f\"Is a equal to b? {a == b}\")\n",
    "print(f\"Is a equal to c? {a == c}\") \n",
    "print(f\"Is a less than or equal to c? {a <= c}\") \n",
    "print(f\"Is c greater than or equal to b? {c >= b}\") \n",
    "print(f\"Is a not equal to c? {a != c}\") \n",
    "print(f\"Is a not equal to b? {a != b}\")\n",
    "```"
   ]
  },
  {
   "cell_type": "code",
   "execution_count": 3,
   "metadata": {},
   "outputs": [
    {
     "name": "stdout",
     "output_type": "stream",
     "text": [
      "a=2 b=3.5 c=5\n",
      "Is a greater than b? False\n",
      "Is a less than b? True\n",
      "Is a equal to b? False\n",
      "Is a equal to c? False\n",
      "Is a less than or equal to c? True\n",
      "Is c greater than or equal to b? True\n",
      "Is a not equal to c? True\n",
      "Is a not equal to b? True\n"
     ]
    }
   ],
   "source": [
    "a = 2\n",
    "b = 3.5\n",
    "c = 5\n",
    "\n",
    "print(f\"{a=} {b=} {c=}\")\n",
    "print(f\"Is a greater than b? {a > b}\")\n",
    "print(f\"Is a less than b? {a < b}\")\n",
    "print(f\"Is a equal to b? {a == b}\")\n",
    "print(f\"Is a equal to c? {a == c}\") \n",
    "print(f\"Is a less than or equal to c? {a <= c}\") \n",
    "print(f\"Is c greater than or equal to b? {c >= b}\") \n",
    "print(f\"Is a not equal to c? {a != c}\") \n",
    "print(f\"Is a not equal to b? {a != b}\")"
   ]
  },
  {
   "cell_type": "markdown",
   "metadata": {},
   "source": [
    "## Non-numerical conditions\n",
    "\n",
    "There are many string methods which will return `True` or `False` as a result of checking something within the string. e.g.\n",
    "\n",
    "```python\n",
    "my_first_string = \"1234\"\n",
    "my_second_string = \"COL300X600\"\n",
    "my_third_string = \"Good day, Potter!\"\n",
    "\n",
    "my_first_string.isnumeric()\n",
    "my_second_string.isnumeric()\n",
    "my_third_string.isnumeric()\n",
    "\n",
    "my_first_string.isupper()\n",
    "my_second_string.isupper()\n",
    "my_third_string.isupper()\n",
    "```\n"
   ]
  },
  {
   "cell_type": "code",
   "execution_count": null,
   "metadata": {},
   "outputs": [],
   "source": []
  },
  {
   "cell_type": "markdown",
   "metadata": {},
   "source": [
    "## Other useful operators: `in`, `is`\n",
    "\n",
    "```python\n",
    "in\n",
    "```\n",
    "Use `in` to _check membership_, e.g.\n",
    "\n",
    "```python\n",
    "my_string = \"cat\"\n",
    "my_list = [\"bat\", \"cat\", \"hat\"]\n",
    "\n",
    "print(\"a\" in my_string)\n",
    "print(my_string in my_list)\n",
    "```\n",
    "---\n",
    "\n",
    "```python\n",
    "is\n",
    "```\n",
    "Use `is` to check if something __is the exact same data__ in computer memory as something else. \n",
    "\n",
    "Note, this does not check if something is _equal_ to something else. It checks to see if it is the *exact same thing* (i.e. it holds the same ID number in computer memory).\n",
    "\n",
    "`is` is most useful for checking if something is `None` (more on this later).\n",
    "\n",
    "```python\n",
    "a = \"my_cat\"\n",
    "b = a\n",
    "print(a is b)\n",
    "\n",
    "b = \"my_rat\".replace(\"r\", \"c\")\n",
    "print(a is b)\n",
    "print(a == b)\n",
    "```"
   ]
  },
  {
   "cell_type": "code",
   "execution_count": null,
   "metadata": {},
   "outputs": [],
   "source": []
  },
  {
   "cell_type": "markdown",
   "metadata": {},
   "source": [
    "## Three \"logical\" operators: `not`, `and`, `or`\n",
    "\n",
    "* `not` \"negates\" a condition. In other words, it turns `True` into `False`. It will also turn `False` into `True`, e.g.\n",
    "   * `not name.isnumeric()`\n",
    "* `and` combines two different conditions and evaluates to `True` if both conditions are `True`, e.g.\n",
    "   * `a < b and a not in my_list` -> This will only evaluate to `True` if both conditions are met.\n",
    "* `or` also combines two different conditions and evaluates to `True` if at least one of the conditions are `True`, e.g.\n",
    "   * `a < b or a not in my_list` -> This will evaluate to `False` ONLY if neither of those conditions are `True`."
   ]
  },
  {
   "cell_type": "code",
   "execution_count": null,
   "metadata": {},
   "outputs": [],
   "source": []
  },
  {
   "cell_type": "markdown",
   "metadata": {},
   "source": [
    "## \"Truthy\" and \"Falsey\"\n",
    "\n",
    "When you put a condition into an `if` statement, the condition will be FORCED into converting into a boolean, even if it does not use comparisons or other boolean operators.\n",
    "\n",
    "e.g. \n",
    "\n",
    "```python\n",
    "a = \"my_cat\"\n",
    "b = \"\"\n",
    "\n",
    "if b:\n",
    "    print(\"b is 'Truthy'\")\n",
    "elif a:\n",
    "    print(\"a is 'Truth'\")\n",
    "else:\n",
    "    print(\"Both a and b are 'Falsey'\")\n",
    "```\n",
    "\n",
    "> In general, all _values_ are Truthy. Any empty value is Falsey.\n",
    "\n",
    "**These are Falsey**:\n",
    "* `\"\"` <- Empty string\n",
    "* `[]` <- Empty list\n",
    "* `()` <- Empty parens (empty tuple)\n",
    "* `{}` <- Empty dict or set\n",
    "* `0` <- The integer 0\n",
    "* `0.0` <- The float 0\n",
    "* `None` <- The None-type (Null)\n",
    "\n",
    "**Almost everything else is Truthy**\n",
    "\n",
    "What would these be?\n",
    "\n",
    "* `\"False\"`\n",
    "* `\"0\"`\n",
    "* `[\"\"]`\n",
    "* `[0]`\n",
    "* `[None]`\n"
   ]
  },
  {
   "cell_type": "code",
   "execution_count": null,
   "metadata": {},
   "outputs": [],
   "source": []
  },
  {
   "cell_type": "markdown",
   "metadata": {},
   "source": [
    "## Last, note the following\n",
    "\n",
    "```python\n",
    "1 == 1.0 == True # All three of these are equivalent\n",
    "0 == 0.0 == False # All three of these are equivalent\n",
    "```\n",
    "\n",
    "Which means you can do things like this:\n",
    "\n",
    "```python\n",
    "x = 5\n",
    "y = 0.1 + (x > 2)*(x + 3) + (x > 10)*(x * 10) # Step functions\n",
    "```"
   ]
  },
  {
   "cell_type": "code",
   "execution_count": null,
   "metadata": {},
   "outputs": [],
   "source": []
  },
  {
   "cell_type": "markdown",
   "metadata": {},
   "source": [
    "# The Real Power: Combining `if`s with `for` loops\n",
    "\n",
    "If we can use a `for` loop to do something over and over again, would it not be excellent if the computer could do different things depending on what is in the data?\n",
    "\n",
    "`if` is often combined with `for` because it is often that we need to either filter data when we iterate or we want to take different actions based on different inputs.\n",
    "\n",
    "## A new loop \"recipe\": filtering data\n",
    "\n",
    "```python\n",
    "your_data = ['data1', 'data2', 'data3', ...]\n",
    "\n",
    "acc = [] # Your \"accumulator\", an empty list\n",
    "for <item> in <your_data>:\n",
    "    if <condition>:\n",
    "        new_item = <do something with item>\n",
    "        acc.append(new_item)\n",
    "```\n",
    "\n",
    "An example: Build a list of column sections if they have an `fc` greater than `fc_target`\n",
    "```python\n",
    "col_list = [\"COL300x400C35\", \"COL400X400C45\", \"COL600x500C35\", \"COL500X500XC60\"]\n",
    "fc_target = 35\n",
    "\n",
    "acc = []\n",
    "for col_section in col_list:\n",
    "    fc = float(col_section.split(\"C\")[-1])\n",
    "    if fc > fc_target:\n",
    "        acc.append(col_section)\n",
    "acc\n",
    "```"
   ]
  },
  {
   "cell_type": "markdown",
   "metadata": {},
   "source": [
    "---"
   ]
  },
  {
   "cell_type": "markdown",
   "metadata": {},
   "source": [
    "# Reading CSV Files (or other text-based tabular data)\n",
    "\n",
    "\n",
    "```python\n",
    "import csv\n",
    "```\n",
    "\n",
    "### Recipe for reading CSV files with the `csv` module\n",
    "\n",
    "```python\n",
    "filename = \"my_file.csv\"\n",
    "\n",
    "csv_acc = [] # File data goes here\n",
    "with open(filename, \"r\") as csv_file:\n",
    "    csv_reader = csv.reader(csv_file)\n",
    "    for line in csv_reader:\n",
    "        csv_acc.append(line)\n",
    "```\n",
    "\n",
    "### Why use the `csv` module?\n",
    "\n",
    "The `csv` module returns a list of lists. The inner list is each piece of data separated out.\n",
    "\n",
    "Using `file.readline()` returns a list of str and line in the csv file would look like this:\n",
    "\n",
    "```python\n",
    "'1337.874756,0.000097,0.000008,52.728630,0.000000,21.559002,-0.002069\\n'\n",
    "```\n",
    "\n",
    "Using `csv.reader()`, the data in the string is separated out and line in the csv file would look like this:\n",
    "\n",
    "```python\n",
    "['1337.874756', '0.000097', '0.000008', '52.728630', '0.000000', '21.559002', '-0.002069']\n",
    "```\n"
   ]
  },
  {
   "cell_type": "code",
   "execution_count": null,
   "metadata": {},
   "outputs": [],
   "source": []
  }
 ],
 "metadata": {
  "kernelspec": {
   "display_name": "Python 3 (ipykernel)",
   "language": "python",
   "name": "python3"
  },
  "language_info": {
   "codemirror_mode": {
    "name": "ipython",
    "version": 3
   },
   "file_extension": ".py",
   "mimetype": "text/x-python",
   "name": "python",
   "nbconvert_exporter": "python",
   "pygments_lexer": "ipython3",
   "version": "3.9.7"
  }
 },
 "nbformat": 4,
 "nbformat_minor": 4
}
