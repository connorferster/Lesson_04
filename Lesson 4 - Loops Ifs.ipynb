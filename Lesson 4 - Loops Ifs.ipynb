{
 "cells": [
  {
   "cell_type": "markdown",
   "metadata": {},
   "source": [
    "# Lesson 4 - `for` verse `in` song: `if` you are happy and you know it, loop it again"
   ]
  },
  {
   "cell_type": "markdown",
   "metadata": {},
   "source": [
    "In this lesson, we will discuss how to use `if` statements and `for ... in ...` loops.\n",
    "\n",
    "Loops, combined with conditions, are one of the primary ways we can do lots of productive work quickly in our programs."
   ]
  },
  {
   "cell_type": "markdown",
   "metadata": {},
   "source": [
    "## `if`, `elif`, `else` syntax"
   ]
  },
  {
   "cell_type": "markdown",
   "metadata": {},
   "source": [
    "```python \n",
    "if <condition>: # Note, the colons\n",
    "    <do something> # Note how the \"do\" lines are indented\n",
    "elif <another condition>:\n",
    "    <do something>\n",
    "    ...\n",
    "else:\n",
    "    <do this last thing when conditions above are not met>\n",
    "```"
   ]
  },
  {
   "cell_type": "markdown",
   "metadata": {},
   "source": [
    "## Conditions\n",
    "\n",
    "A condition is any Python _expression_ that evaluates to a `bool` type, i.e. either `True` or `False`. "
   ]
  },
  {
   "cell_type": "markdown",
   "metadata": {},
   "source": [
    "## Basic condition checking\n",
    "\n",
    "In addition to checking if two things are equal, we can also check other relationships: greater than, less than, not equal, etc.\n",
    "\n",
    "These are the basic comparison operators:\n",
    "* `>` - Greater than\n",
    "* `<` - Less than\n",
    "* `>=` - Greater than or equal to\n",
    "* `<=` - Less than or equal to\n",
    "* `!=` - Not equal to\n",
    "* `==` - Equal to"
   ]
  },
  {
   "cell_type": "markdown",
   "metadata": {},
   "source": [
    "Test some comparisons out!\n",
    "\n",
    "```python\n",
    "a = 2\n",
    "b = 3.5\n",
    "c = 5\n",
    "\n",
    "print(\"Is a greater than b? \", a > b)\n",
    "print(\"Is a less than b? \", a < b)\n",
    "print(\"Is a equal to b? \", a == b)\n",
    "print(\"Is a equal to c? \", a == c) \n",
    "print(\"Is a less than or equal to c? \", a <= c) \n",
    "print(\"Is c greater than or equal to b? \", c >= b) \n",
    "print(\"Is a not equal to c? \", a != c) \n",
    "print(\"Is a not equal to b? \", a != b)\n",
    "```"
   ]
  },
  {
   "cell_type": "code",
   "execution_count": null,
   "metadata": {},
   "outputs": [],
   "source": []
  },
  {
   "cell_type": "markdown",
   "metadata": {},
   "source": [
    "## Converting anything to a bool\n",
    "In Python, anything can be converted to a `bool` using the `bool()` function. In an `if` statement, anything in a _condition_ will be automatically converted to a `bool`  \n",
    "\n",
    "This ability for almost any python variable to be converted in to `bool` is very useful feature of python.\n",
    "\n",
    "For example, if we had variables `a`, `b`, `c`, and `d` and we gave them values like this:\n",
    "\n",
    "```python\n",
    "a = 12\n",
    "b = 0\n",
    "c = [\"cat\", \"hat\"]\n",
    "d = [] # An empty list\n",
    "e = \"Hello\"\n",
    "f = \"\" # An empty str\n",
    "```\n",
    "\n",
    "We can test their \"truthiness\" by converting them to `bool` types."
   ]
  },
  {
   "cell_type": "code",
   "execution_count": 7,
   "metadata": {},
   "outputs": [
    {
     "data": {
      "text/plain": [
       "False"
      ]
     },
     "execution_count": 7,
     "metadata": {},
     "output_type": "execute_result"
    }
   ],
   "source": [
    "a = \"Jamal\"\n",
    "b = \"\" # An empty str\n",
    "c = [\"Hussein\", \"Carrie\", \"Chan\"]\n",
    "d = [] # An empty list"
   ]
  },
  {
   "cell_type": "markdown",
   "metadata": {},
   "source": [
    "Values that are considered **truthy** are generally any object type with _any_ kind of data in it.\n",
    "\n",
    "Values that are considered **falsey** are generally any object type that is _empty_ (absolutely no data).\n",
    "\n",
    "Also note the following:\n",
    "\n",
    "```python\n",
    "1 == 1.0 == True # All three of these are equivalent\n",
    "0 == 0.0 == False # All three of these are equivalent\n",
    "```"
   ]
  },
  {
   "cell_type": "markdown",
   "metadata": {},
   "source": [
    "## More logical operators\n",
    "\n",
    "In addition to the logical operators: `==`, `!=`, `>`, and `<`, there are a few more comparisons you can do:\n",
    "\n",
    "* `and` - Will return `True` only if both condition `a` AND `b` are true, e.g. `(x > 2) and (y < 5)`\n",
    "* `or` - Will return `True` if condition `a` is `True`. If not, it will return `True` if `b` is `True`. `False` if both `a` and `b` are `False`, e.g. `(x > 2) or (y < 5)`\n",
    "* `not` - Will change `True` into `False` and will change `False` into `True`, e.g. `not (x > 2)`\n",
    "* `in` - Will return `True` if `a` is a member of `b`, where `b` is a collection type of some kind (e.g. `str`, `list`, `tuple`, etc.)"
   ]
  },
  {
   "cell_type": "code",
   "execution_count": null,
   "metadata": {},
   "outputs": [],
   "source": []
  },
  {
   "cell_type": "markdown",
   "metadata": {},
   "source": [
    "## Interesting things to note about booleans...\n",
    "\n",
    "**1.** You can \"chain\" numerical comparisons together\n",
    "\n",
    "```python\n",
    "x = 5\n",
    "2 < x < 6\n",
    "```"
   ]
  },
  {
   "cell_type": "code",
   "execution_count": null,
   "metadata": {},
   "outputs": [],
   "source": []
  },
  {
   "cell_type": "markdown",
   "metadata": {},
   "source": [
    "**2.** You can use the fact that `True == 1` and `False == 0` as part of an arithmetical expression.\n",
    "```python\n",
    "x = 5\n",
    "y = 0.1 + (x > 2)*(x + 3) + (x > 10)*(x * 10)\n",
    "```\n",
    "\n",
    "Here, `(x > 2)` and `(x > 10)` become like \"on/off\" switches that \"activate\" certain parts of the expression depending on the value of `x`."
   ]
  },
  {
   "cell_type": "code",
   "execution_count": null,
   "metadata": {},
   "outputs": [],
   "source": []
  },
  {
   "cell_type": "markdown",
   "metadata": {},
   "source": [
    "## A `bool` is what you get from a \"test\"\n",
    "\n",
    "Often times in programming, you want to make decisions based on the values of your variables. Like sorting a list of names to go into either an \"A-M\" column or an \"N-Z\" column. To perform this sorting, you would \"write a test\" to check to see which name should go where.\n",
    "\n",
    "In this case, you would test if a name starts with a letter from \"A-M\" or it starts with a letter \"N-Z\".\n",
    "\n",
    "```python\n",
    "name = \"Jackson Melderhof\"\n",
    "am_list = name[0] in \"ABCDEFGHIJKLM\" # This is one test\n",
    "nz_list = name[0] in \"NOPQRSTUVWXYZ\" # This is another\n",
    "```"
   ]
  },
  {
   "cell_type": "code",
   "execution_count": null,
   "metadata": {},
   "outputs": [],
   "source": []
  },
  {
   "cell_type": "markdown",
   "metadata": {},
   "source": [
    "## Many datatypes have built-in \"test methods\"\n",
    "\n",
    "Going back to **Lesson 2**, we may remember some of the _methods_ of strings are \"test\" type methods:\n",
    "\n",
    "* `.isalnum()` - Returns True if all characters are \"alphanumeric\" (meaning a-z or A-Z or 0-9)\n",
    "* `.isalpha()` - Returns True if all characters are alphabetical (i.e. just a-z or A-Z)\n",
    "* `.isdecimal()` - Returns True if all characters are numbers or numbers with a decimal \".\" character\n",
    "* `.isdigit()` - Returns True if all characters are numbers\n",
    "* `.isnumeric()` - Returns True if all characters are either digits, \".\", or a special character that includes numbers (such as ², which is a special character for superscript 2).\n",
    "* `.isspace()` - Returns True if all characters are \"white space\" characters (special characters which as just spaces; this includes `\\n` and `\\t` which are the characters for \"new line\" and \"tab\", respectively)\n",
    "* `.islower()` - Returns True if all characters are lower case\n",
    "* `.isupper()` - Returns True if all characters are upper case\n",
    "* `.istitle()` - Returns True if the first character of every word is capitalized (Like You Would See In A Title)\n",
    "\n",
    "All of these methods evaluate to a `bool`."
   ]
  },
  {
   "cell_type": "markdown",
   "metadata": {},
   "source": [
    "# Using `if` statements\n",
    "\n",
    "In Python, we can use the `if`, `elif`, and `else` to perform certain actions based on the outcome of our tests.\n",
    "\n",
    "```python\n",
    "if <test condition 1>: # An if statement ends with a ':'\n",
    "    <do this thing>\n",
    "elif <test condition 2>: # Same with an elif\n",
    "    <do this other thing>\n",
    "else: # Same with an else\n",
    "    <do this when all the other tests fail>\n",
    "```\n",
    "\n",
    "**Notice how we use indentation here?**\n",
    "\n",
    "### Major Python Rule: Colons and Indentation\n",
    "\n",
    "1. A **colon** - In Python, you use a `:` to show that something is under the contorl of another thing. In this case, everything after `if <test condition>:` is going to be under the control of the `if` (or `elif` or `else`) clause above it.\n",
    "2. **Indentation** - One of the reasons Python is a unique programming language because it uses \"white space\" (new lines and tabbed indents) to show how the code works. Other programming languages let you type where ever you want as long as you put special characters in (like { and }). How do you know where and when you have to indent? Any time you see a colon, `:`, you have to indent the next line if you want that line to be \"under the control\" of the line with the colon.\n",
    "\n",
    "We will see colons and indentation come up again in this lesson."
   ]
  },
  {
   "cell_type": "markdown",
   "metadata": {},
   "source": [
    "## Constructing a series of conditions in an `if` statement\n",
    "\n",
    "Lets tie all of this in together. Lets say we have a user giving us two inputs and we want to know what is in those inputs and then tell the user what we found."
   ]
  },
  {
   "cell_type": "markdown",
   "metadata": {},
   "source": [
    "```python\n",
    "name = \"Connor\"\n",
    "age = 37\n",
    "\n",
    "if \"q\" in name:\n",
    "    print(\"You have one of the rarest names in English, it has a 'q' in it!\")\n",
    "elif name.isupper() and age > 68:\n",
    "    print(\"Whoa! No need to shout! I mean, you are over 68 years old!\")\n",
    "elif name.isupper() and age < 68: # What about if someone's age is exactly 68?\n",
    "    print(\"Whoa young whipper-snapper! No need to shout just cuz you are young!\")\n",
    "elif name.islower() and age > 20:\n",
    "    print(\"What's that? Could you speak up? Use your 'adult' voice!\")\n",
    "else:\n",
    "    print(f\"Well, atleast I know your name is {name} and you are {age} years old.\")\n",
    "```"
   ]
  },
  {
   "cell_type": "code",
   "execution_count": null,
   "metadata": {},
   "outputs": [],
   "source": []
  },
  {
   "cell_type": "markdown",
   "metadata": {},
   "source": [
    "# Using Loops!\n",
    "\n",
    "Finally! This is where we can start getting some serious work done...automagically!\n",
    "\n",
    "The main loop type in Python is typically referred to as the `for ... in ...:` loop, as in:\n",
    "\n",
    "```python\n",
    "for <item> in <collection>:\n",
    "    <do this>\n",
    "    <then do this>\n",
    "```\n",
    "\n",
    "To perform a loop, you *must* have a *collection* data type (not empty) that you want to loop over. Examples of collection data types (that we saw last week) include:\n",
    "\n",
    "* `list` - When you loop through a `list`, you are looping through each separate element in the list.\n",
    "* `tuple` - Like `list`, you are looping through each separate element in the tuple.\n",
    "* `str` - When you loop through a `str`, you are looping through each *character* in the string."
   ]
  },
  {
   "cell_type": "markdown",
   "metadata": {},
   "source": [
    "**Looping over a `list`**\n",
    "\n",
    "```python\n",
    "my_desk_items = [\"Pencil\", \"Paper\", \"Eraser\", \"Highlighter\", \"Sharpener\", \"Stapler\"]\n",
    "\n",
    "for desk_item in my_desk_items:\n",
    "    print(desk_item)\n",
    "```"
   ]
  },
  {
   "cell_type": "code",
   "execution_count": null,
   "metadata": {},
   "outputs": [],
   "source": []
  },
  {
   "cell_type": "markdown",
   "metadata": {},
   "source": [
    "When writing `for <item> in <collection>`, you can call the item whatever you want.\n",
    "\n",
    "Anything at all! What matters is that it goes here: `for <item> in my_desk_items:`"
   ]
  },
  {
   "cell_type": "markdown",
   "metadata": {},
   "source": [
    "**Looping over a str**\n",
    "\n",
    "```python\n",
    "my_alphabet = \"ACEGIKMORTVXZ\"\n",
    "\n",
    "for ground_hog in my_alphabet:\n",
    "    print(ground_hog)\n",
    "```"
   ]
  },
  {
   "cell_type": "code",
   "execution_count": null,
   "metadata": {},
   "outputs": [],
   "source": []
  },
  {
   "cell_type": "markdown",
   "metadata": {},
   "source": [
    "## Loops are commonly used for four things:\n",
    "\n",
    "1. **Collecting/Loading** - Loop through lines in a file to load data into memory\n",
    "2. **Transforming** - Changing each item in the collection in some way and collecting the changed results\n",
    "3. **Filtering** - Going through each item in the collection and seeing if the item matches some sort of criteria and then collecting the results\n",
    "4. **Counting** - Creating a running tally of a certain kind of item in the collection and then returning the count(s)\n",
    "\n",
    "While these three things sound simple enough, they are often at the heart of what computer science is all about. For example, creating a computer programming language requires looping through each item in a line of code and \"parsing\" it (which is *filtering* each \"code item\" and assigning each \"code item\" to a \"code category\" that can be understood)."
   ]
  },
  {
   "cell_type": "markdown",
   "metadata": {},
   "source": [
    "### Example of Loading/Collecting\n",
    "\n",
    "This is where you load data from a file (for example). We will be covering reading/writing files explicitly in Lesson 7."
   ]
  },
  {
   "cell_type": "code",
   "execution_count": 47,
   "metadata": {},
   "outputs": [],
   "source": [
    "lesson_1_file = open(\"Lesson 01a - Python Hype.ipynb\", \"r\") # Open a file\n",
    "acc = []\n",
    "for line in lesson_1_file.readlines(): # Loop over lines in the file\n",
    "    acc.append(line)"
   ]
  },
  {
   "cell_type": "markdown",
   "metadata": {},
   "source": [
    "### Example of Transforming"
   ]
  },
  {
   "cell_type": "markdown",
   "metadata": {},
   "source": [
    "```python\n",
    "list_of_fruits = [\"apple\", \"pear\", \"banana\", \"cucumber\", \"mango\"]\n",
    "\n",
    "for fruit in list_of_fruits:\n",
    "    loud_fruit = fruit.upper() + \"!\"\n",
    "    print(loud_fruit)\n",
    "```"
   ]
  },
  {
   "cell_type": "code",
   "execution_count": null,
   "metadata": {},
   "outputs": [],
   "source": []
  },
  {
   "cell_type": "markdown",
   "metadata": {},
   "source": [
    "### Example of Counting\n",
    "\n",
    "```python\n",
    "count_of_b_fruits = 0\n",
    "print(\"Count of b fruits before loop: \", count_of_b_fruits)\n",
    "for fruit in list_of_fruits:\n",
    "    if \"b\" in fruit:\n",
    "        count_of_b_fruits += 1 # This is a Python shorthand for: count_of_b_fruits = count_of_b_fruits + 1\n",
    "\n",
    "print(\"Count of b fruits after loop: \", count_of_b_fruits)\n",
    "```"
   ]
  },
  {
   "cell_type": "code",
   "execution_count": null,
   "metadata": {},
   "outputs": [],
   "source": []
  },
  {
   "cell_type": "markdown",
   "metadata": {},
   "source": [
    "### Example of Filtering\n",
    "\n",
    "```python\n",
    "my_favourite_fruits = [] # <- Note, I am creating an empty list BEFORE the loop starts.\n",
    "for fruit in list_of_fruits:\n",
    "    if fruit[-1] == \"r\": # Is the last letter equal to \"r\"?\n",
    "        my_favourite_fruits.append(fruit) # <- Remember this from Lesson 2? Adding items to a list one at a time.\n",
    "        \n",
    "print(my_favourite_fruits)\n",
    "```"
   ]
  },
  {
   "cell_type": "code",
   "execution_count": null,
   "metadata": {},
   "outputs": [],
   "source": []
  },
  {
   "cell_type": "markdown",
   "metadata": {},
   "source": [
    "### To filter, we need to do three things:\n",
    "1. Create an empty list, an \"accumulator\"\n",
    "2. Test if a condition is met\n",
    "3. Add the filtered item to the accumulator"
   ]
  }
 ],
 "metadata": {
  "kernelspec": {
   "display_name": "Python 3",
   "language": "python",
   "name": "python3"
  },
  "language_info": {
   "codemirror_mode": {
    "name": "ipython",
    "version": 3
   },
   "file_extension": ".py",
   "mimetype": "text/x-python",
   "name": "python",
   "nbconvert_exporter": "python",
   "pygments_lexer": "ipython3",
   "version": "3.7.7"
  }
 },
 "nbformat": 4,
 "nbformat_minor": 4
}
