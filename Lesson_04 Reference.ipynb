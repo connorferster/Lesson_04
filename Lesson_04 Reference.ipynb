{
 "cells": [
  {
   "cell_type": "markdown",
   "id": "047b1339-12cc-4b86-8d08-cb53c19f4690",
   "metadata": {},
   "source": [
    "# Lesson 04 Reference"
   ]
  },
  {
   "cell_type": "markdown",
   "id": "3625984f-8131-4383-8828-43f3a0a56922",
   "metadata": {},
   "source": [
    "## `if`, `elif`, `else` syntax\n",
    "\n",
    "```python \n",
    "if <condition>:\n",
    "    <do something>  # Code under an if/elif/else must be indented\n",
    "elif <another condition>:\n",
    "    <do something a little different>\n",
    "elif <yet another condition>:\n",
    "    <do something more different>\n",
    "else:\n",
    "    <do this last thing when conditions above are not met>\n",
    "```\n",
    "\n",
    "Example: \n",
    "\n",
    "```python\n",
    "value = 53.2\n",
    "\n",
    "if value < 23:\n",
    "    print(\"Value is too small\")\n",
    "elif value < 55:\n",
    "    print(\"Value is almost big enough\")\n",
    "elif value == 55:\n",
    "    print(\"Value is just right\")\n",
    "else:\n",
    "    print(\"Value is too big\")\n",
    "```\n",
    "\n",
    "Another example that does the same thing:\n",
    "\n",
    "```python\n",
    "value = 53.2\n",
    "\n",
    "if value == 55:\n",
    "    print(\"Value is just right\")\n",
    "elif 23 < value < 55:\n",
    "    print(\"Value is almost big enough\")\n",
    "elif value > 55:\n",
    "    print(\"Value is too big\")\n",
    "else:\n",
    "    print(\"Value is too small\")\n",
    "```\n"
   ]
  },
  {
   "cell_type": "code",
   "execution_count": null,
   "id": "4cf86341-a4ca-4a59-940b-7e5bc8caca2b",
   "metadata": {},
   "outputs": [],
   "source": []
  },
  {
   "cell_type": "markdown",
   "id": "32325b0e-2c14-4167-a126-73cc451d8285",
   "metadata": {},
   "source": [
    "## Comparison operators\n",
    "\n",
    "* `==` equal to\n",
    "* `>` greater than\n",
    "* `<` less than\n",
    "* `>=` greater than or equal to\n",
    "* `<=` less than or equal to\n",
    "* `!=` not equal to\n"
   ]
  },
  {
   "cell_type": "code",
   "execution_count": null,
   "id": "572eb27b-973a-4c63-84d2-fc2d61ca66c1",
   "metadata": {},
   "outputs": [],
   "source": []
  },
  {
   "cell_type": "markdown",
   "id": "ed3ae9c9-5290-47da-ba0b-f47a62ed7ff3",
   "metadata": {},
   "source": [
    "# Conditions, in general\n",
    "\n",
    "Conditions are _expressions_ (statements that can be evaluated down to a single value) that evaluate to either `True` or `False` (a boolean). \n",
    "\n",
    "Further, an expression that is part of an `if`/`elif`/`else` statement (i.e. the condition) will be _forced_ into being a boolean. Anything can be converted into a boolean by using the `bool()` function.\n",
    "\n",
    "e.g.\n",
    "```python\n",
    "my_list = [\"cat\", \"hat\", \"bat\"]\n",
    "bool(my_list) # True\n",
    "\n",
    "a_sum_of_numbers = 5 + 4 + 6.5\n",
    "bool(a_sum_of_numbers) # True\n",
    "```"
   ]
  },
  {
   "cell_type": "markdown",
   "id": "36882333-8ed9-4ca9-9f9b-a5f16f1fa90e",
   "metadata": {},
   "source": [
    "## \"Truthy\" and \"Falsey\"\n",
    "\n",
    "Values that become `True` when converted into a boolean are said to be \"Truthy\" in Python.\n",
    "\n",
    "Values that become `False` when converted into a boolean are said to be \"Falsey\".\n",
    "\n",
    "### Falsey values\n",
    "\n",
    "Generally speaking, \"empty\" versions of a data type are Falsey:\n",
    "\n",
    "* `\"\"` - Empty `str`\n",
    "* `[]` - Empty `list`\n",
    "* `{}` - Empty `dict` or `set`\n",
    "* `()` - Empty `tuple`\n",
    "* `0` - Empty `int`\n",
    "* `0.0` - Empty `float`\n",
    "* `None` - The None type\n",
    "\n",
    "**Everything that is not Falsey is Truthy**\n",
    "\n",
    "e.g.\n",
    "\n",
    "* `'cat'` - has a value of \"cat\"\n",
    "* `[False]` - Not empty, has one item which has the value `False`\n",
    "* `\"0\"` - Not empty, has one character, `0`.\n",
    "\n",
    "Example of use:\n",
    "\n",
    "```python\n",
    "a = [\"cat\", \"bat\", \"hat\"]\n",
    "b = []\n",
    "\n",
    "value = a\n",
    "\n",
    "if value:\n",
    "    print(\"The list is populated\")\n",
    "else:\n",
    "    print(\"The list is empty\")\n",
    "```"
   ]
  },
  {
   "cell_type": "code",
   "execution_count": null,
   "id": "eb40cf01-f2cd-47c7-89da-0387d5fa46e3",
   "metadata": {},
   "outputs": [],
   "source": []
  },
  {
   "cell_type": "markdown",
   "id": "fa08710d-d117-44c3-a505-15c8d7f8e635",
   "metadata": {},
   "source": [
    "## Logical operators\n",
    "\n",
    "* `not`\n",
    "* `and`\n",
    "* `or`\n",
    "\n",
    "Example: \n",
    "\n",
    "```python\n",
    "col_a = \"COL400X400C25\"\n",
    "col_b = \"COL400X600C20\"\n",
    "\n",
    "col_a_fc = float(col_a.split(\"C\")[-1])\n",
    "col_b_fc = float(col_b.split(\"C\")[-1])\n",
    "\n",
    "col_a_width = float( # You can do arbitrary line breaks of your code when in parens\n",
    "    col_a\n",
    "    .replace(\"COL\", \"\")\n",
    "    .split(\"X\")[0]\n",
    ")\n",
    "\n",
    "col_b_width = float(\n",
    "    col_b\n",
    "    .replace(\"COL\", \"\")\n",
    "    .split(\"X\")[0]\n",
    ")\n",
    "\n",
    "if col_a == col_b:\n",
    "    print(\"Columns are the same size and the same fc\")\n",
    "elif (\"COL\" not in col_a) or (\"COL\" not in col_b):\n",
    "    print(\"One of either col_a or col_b is not a column\")\n",
    "elif (col_a_width == col_b_width) and (col_a_fc == col_b_fc):\n",
    "    print(\"Columns have the width and the same concrete strength\")\n",
    "elif (col_a_fc > 25) or (col_b_fc > 25):\n",
    "    print(\"One of either col_a or col_b has an fc that is greater than 25\")\n",
    "else:\n",
    "    print(\"This is a case which is not yet covered by the conditions\")\n",
    "```"
   ]
  },
  {
   "cell_type": "code",
   "execution_count": null,
   "id": "5f30f75f-ee32-4caf-b91c-2435bddb85ca",
   "metadata": {},
   "outputs": [],
   "source": []
  },
  {
   "cell_type": "markdown",
   "id": "de193c24-18d7-41cd-a56f-61f7974f2a9e",
   "metadata": {},
   "source": [
    "## Other useful operators: `in`, `is`\n",
    "\n",
    "* `in` is used for testing membership in a collection\n",
    "    * e.g. `\"COL\" in \"COL300x300C35\"`\n",
    "    * e.g. `\"COL300x300C35\" in [\"COL300x400C35\", \"COL400x600C45\"]`\n",
    "* `is` is used to test if one value is the exact same object in memory as another object\n",
    "    * e.g. `a is None`\n",
    "    * e.g. `b is c` \n",
    "    * **Note:** Do not use `is` to check if two things are equal. Use `==` for that. Two values being equal does not mean that they are the same objects in memory. However, if something is `None` it is always the same `None` in memory. There is no such thing as a \"copy\" of `None`."
   ]
  },
  {
   "cell_type": "code",
   "execution_count": null,
   "id": "bb56f746-3119-4532-a3e5-5b0f4dd860c3",
   "metadata": {},
   "outputs": [],
   "source": []
  },
  {
   "cell_type": "markdown",
   "id": "1fe191fe-0e84-4c2e-b1c3-1a5affdd890d",
   "metadata": {},
   "source": [
    "## Equivalent values\n",
    "\n",
    "These are all equal:\n",
    "\n",
    "```python\n",
    "True == 1 == 1.0\n",
    "```\n",
    "\n",
    "```python\n",
    "False == 0 == 0.0\n",
    "```\n",
    "\n",
    "Which means you can use the values of `True` and `False` as `1` and `0`.\n",
    "\n",
    "```python\n",
    "x = 4\n",
    "(x + 5) * (x >= 4) # This is something you can do\n",
    "```"
   ]
  },
  {
   "cell_type": "code",
   "execution_count": null,
   "id": "0068b207-a08c-473f-b1fc-832262972e33",
   "metadata": {},
   "outputs": [],
   "source": []
  },
  {
   "cell_type": "markdown",
   "id": "9c0846fa-c240-45f7-8b12-e2609ee5365b",
   "metadata": {},
   "source": [
    "## A new loop \"recipe\": filtering data\n",
    "\n",
    "```python\n",
    "your_data = ['data1', 'data2', 'data3', ...]\n",
    "\n",
    "acc = [] # Your \"accumulator\", an empty list\n",
    "for <item> in <your_data>:\n",
    "    if <condition>:\n",
    "        new_item = <do something with item>\n",
    "        acc.append(new_item)\n",
    "```"
   ]
  },
  {
   "cell_type": "markdown",
   "id": "482e2bc8-4778-4dc7-85db-97678eba5075",
   "metadata": {},
   "source": [
    "## Reading CSV Files (or other text-based tabular data)"
   ]
  },
  {
   "cell_type": "markdown",
   "id": "867549cd-64b2-462f-9f7a-41a5c455ce54",
   "metadata": {},
   "source": [
    "\n",
    "```python\n",
    "import csv\n",
    "import pathlib\n",
    "\n",
    "here = pathlib.Path()\n",
    "csv_path = here / \"my_file.csv\"\n",
    "print(csv_path.exists())\n",
    "\n",
    "csv_acc = [] # File data goes here\n",
    "with open(csv_path, \"r\") as csv_file:\n",
    "    csv_reader = csv.reader(csv_file)\n",
    "    for line in csv_reader:\n",
    "        csv_acc.append(line)\n",
    "```"
   ]
  },
  {
   "cell_type": "code",
   "execution_count": null,
   "id": "8128a07c-abc0-49e7-a80b-ca81f253db0f",
   "metadata": {},
   "outputs": [],
   "source": []
  }
 ],
 "metadata": {
  "kernelspec": {
   "display_name": "Python 3 (ipykernel)",
   "language": "python",
   "name": "python3"
  },
  "language_info": {
   "codemirror_mode": {
    "name": "ipython",
    "version": 3
   },
   "file_extension": ".py",
   "mimetype": "text/x-python",
   "name": "python",
   "nbconvert_exporter": "python",
   "pygments_lexer": "ipython3",
   "version": "3.8.12"
  }
 },
 "nbformat": 4,
 "nbformat_minor": 5
}
